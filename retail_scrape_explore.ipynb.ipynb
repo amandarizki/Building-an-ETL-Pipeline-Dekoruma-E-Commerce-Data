{
 "cells": [
  {
   "cell_type": "markdown",
   "metadata": {},
   "source": [
    "# 1. Description\n",
    "**Project ini disusun untuk mengambil data dari halaman sebuah website, kemudian diolah dan disimpan ke dalam database PostgreSQL.**\n",
    "\n",
    "**Website:**\n",
    "https://www.dekoruma.com/search?query=meja"
   ]
  },
  {
   "cell_type": "markdown",
   "metadata": {},
   "source": [
    "# 2. Import Libraries\n",
    "Bagian ini berisikan proses mengimport semua library yang dibutuhkan pada project ini."
   ]
  },
  {
   "cell_type": "code",
   "execution_count": 166,
   "metadata": {},
   "outputs": [],
   "source": [
    "# Mengimport pandas (untuk manipulasi data)\n",
    "import pandas as pd\n",
    "\n",
    "# Mengimport numpy\n",
    "import numpy as np\n",
    "\n",
    "# Mengimport BeautifulSoup dan request untuk web scraping (menggunakan HTML)\n",
    "from bs4 import BeautifulSoup\n",
    "import requests\n",
    "\n",
    "# Mengimport selenium untuk otomatisasi website menggunakan chrome\n",
    "from selenium import webdriver\n",
    "\n",
    "# Mengimport time untuk mengatur waktu (menetapkan jeda dll)\n",
    "import time"
   ]
  },
  {
   "cell_type": "markdown",
   "metadata": {},
   "source": [
    "# 3. Extract Data\n",
    "Bagian ini berisikan proses untuk mengambil data yang akan digunakan untuk analisis lebih lanjut. Pada proses ini, data diambil dari website e-commerce yang menjual barang perabotan rumah tangga yaitu 'Dekoruma' menggunakan web scraping. "
   ]
  },
  {
   "cell_type": "code",
   "execution_count": 126,
   "metadata": {},
   "outputs": [],
   "source": [
    "# Melakukan scraping data dari website\n",
    "\n",
    "driver = webdriver.Chrome() # Memanggil driver\n",
    "nama_produk = [] # Membuat variabel (list) nama_produk (kosong) untuk menyimpan data nama produk\n",
    "harga_sebelum_diskon = [] # Membuat variabel (list) harga_sebelum_diskon (kosong) untuk menyimpan data harga normal produk (tanpa diskon)\n",
    "diskon = [] # Membuat variabel (list) diskon (kosong) untuk menyimpan data diskon pada masing-masing produk\n",
    "harga_setelah_diskon = [] # Membuat variabel (list) harga_setelah_diskon (kosong) untuk menyimpan data harga produk setelah dipotong diskon\n",
    "terjual_atau_ulasan = [] # Membuat variabel (list) terjual_atau_ulasan (kosong) untuk menyimpan data keterangan yang tersedia terkait produk (dapat berupa jumlah yang terjual atau ulasan produk)\n",
    "gratis_ongkir = [] # Membuat variabel (list) gratis_ongkir (kosong) untuk menyimpan data jenis gratis ongkir apa yang akan diperoleh jika membeli produk\n",
    "for page in range(1,6): # Range dibuat sampai dengan 6 untuk men-scraping data sampai page 5\n",
    "    dekoruma = (f'https://www.dekoruma.com/search?query=meja&page={page}') # Menyimpan link website dalam variabel\n",
    "    driver.get(dekoruma)\n",
    "    time.sleep(10) # Untuk memberikan jeda agar halaman bisa dimuat penuh sebelum dilakukan scraping\n",
    "    scroll_pause_time = 10 # Untuk memberi jeda di ketika melakukan scroll \n",
    "    last_height = driver.execute_script(\"return document.body.scrollHeight\") # Untuk mendapatkan/mendefinisikan tinggi halaman awal (akan digunakan untuk membuat scrolling otomatis)\n",
    "    while True: # Loop untuk melakukan scrolling ke bawah\n",
    "        driver.execute_script(\"window.scrollBy(0, document.body.scrollHeight);\") # Scroll ke bawah sampai bagian terbawah halaman\n",
    "        time.sleep(5) # Jeda 5 detik agar elemen baru termuat\n",
    "        new_height = driver.execute_script(\"return document.body.scrollHeight\") # Mengambil (mendefinisikan) tinggi halaman setelah scroll\n",
    "        if new_height == last_height:\n",
    "            break  # Jika tinggi tidak berubah, berhenti scrolling\n",
    "        last_height = new_height # Perbarui tinggi halaman sebelum iterasi berikutnya\n",
    "\n",
    "    time.sleep(5)  # Jeda setelah scrolling sebelum mulai parsing HTML\n",
    "    time.sleep(5)  # Untuk memberikan jeda agar halaman bisa dimuat penuh setelah di scroll kebawah dan sebelum berpindah ke halaman selanjutnya\n",
    "    html = driver.page_source # Menyimpan HTML halaman\n",
    "    soup = BeautifulSoup(html, 'html.parser') # Parsing HTML menggunakan BeautifulSoup\n",
    "    for data in soup.find_all('div', {'class', 'css-1dbjc4n r-z2wwpe r-27sa8p r-13awgt0 r-1pi2tsx r-1wtj0ep r-1jkjb r-1kb76zh r-bgnin r-1udh08x'}): # Mencari semua elemen <div> yang berisi informasi produk\n",
    "        try:\n",
    "            nama_produk.append(data.find('div', {'class':'css-901oao css-cens5h r-1umadx r-1enofrn r-8ay8q1 r-1cwl3u0 r-15zivkp'}).get_text()) # Mengambil teks nama produk dan menambahkannya ke list\n",
    "        except:\n",
    "            nama_produk.append(None)  # Jika gagal menemukan elemen, tambahkan None ke list\n",
    "        try:\n",
    "            harga_sebelum_diskon.append(data.find('div', {'class':'css-901oao r-1umadx r-1enofrn r-8ay8q1 r-1cwl3u0 r-142tt33'}).get_text()) # Mengambil teks harga sebelum diskon dan menambahkannya ke list\n",
    "        except:\n",
    "            try:\n",
    "                harga_sebelum_diskon.append(data.find('div', {'class': 'css-901oao r-1umadx r-a023e6 r-b88u0q r-rjixqe'}).get_text()) # Jika tidak ada harga sebelum diskon pada letak sebelumnya, ambil dari tempat ini. (Ini perlu dilakukan karena dalam website terdapat produk yang tidak memiliki diskon. Produk-produk yang tidak memiliki diskon tersebut memiliki letak harga yang berbeda dengan yang memiliki diskon)\n",
    "            except:\n",
    "                harga_sebelum_diskon.append(None)   # Jika gagal menemukan elemen, tambahkan None ke list\n",
    "        try:\n",
    "            diskon.append(data.find('div', {'class':'css-901oao r-1umadx r-10x49cs r-b88u0q r-3ucsff r-56xrmm'}).get_text())\n",
    "        except:\n",
    "            diskon.append(None) # Jika gagal menemukan elemen, tambahkan None ke list\n",
    "        try:\n",
    "            harga_setelah_diskon.append(data.find('div', {'class':'css-901oao r-1umadx r-a023e6 r-b88u0q r-rjixqe'}).get_text()) # Mengambil teks harga setelah diskon dan menambahkannya ke list\n",
    "        except:\n",
    "            try:\n",
    "                harga_setelah_diskon.append(data.find('div', {'class': 'css-1dbjc4n r-1ecahn0 r-lchren r-14gqq1x r-iphfwy r-1m04atk r-1pyaxff r-1h8ys4a'}).get_text()) # Jika tidak ada harga setelah diskon pada letak sebelumnya, ambil dari tempat ini. (Ini perlu dilakukan karena dalam website terdapat beberapa produk yang memiliki diskon, letal harga setelah diskonnya berbeda dari posisi sebelumnya)\n",
    "            except:\n",
    "                harga_setelah_diskon.append(None)  # Jika gagal menemukan elemen, tambahkan None ke list\n",
    "        try:\n",
    "            terjual_atau_ulasan.append(data.find('div', {'class':'css-901oao r-1umadx r-1gkfh8e r-8ay8q1 r-1f529hi'}).get_text()) # Mengambil teks terjual atau ulasan dan menambahkannya ke list (posisi ulasan dan terjual berada di tempat yang sama)\n",
    "        except:\n",
    "            terjual_atau_ulasan.append(None) # Jika gagal menemukan elemen, tambahkan None ke list\n",
    "        try:\n",
    "            gratis_ongkir.append(data.find('div', {'class':'css-901oao r-1umadx r-1enofrn r-b88u0q r-8ay8q1 r-1cwl3u0'}).get_text()) # Mengambil gratis ongkir yang didapatkan dan menambahkannya ke list \n",
    "        except:\n",
    "            gratis_ongkir.append(None) "
   ]
  },
  {
   "cell_type": "code",
   "execution_count": 127,
   "metadata": {},
   "outputs": [
    {
     "name": "stdout",
     "output_type": "stream",
     "text": [
      "120\n",
      "120\n",
      "120\n",
      "120\n",
      "120\n",
      "120\n"
     ]
    }
   ],
   "source": [
    "# Melihat apakah jumlah data di setiap variabel sudah sama jumlahnya\n",
    "\n",
    "print(len(nama_produk))\n",
    "print(len(harga_sebelum_diskon))\n",
    "print(len(diskon))\n",
    "print(len(harga_setelah_diskon))\n",
    "print(len(terjual_atau_ulasan))\n",
    "print(len(gratis_ongkir))"
   ]
  },
  {
   "cell_type": "markdown",
   "metadata": {},
   "source": [
    "Dari output di atas diketahui bahwa seluruh variabel (kolom) memiliki panjang data yang sama."
   ]
  },
  {
   "cell_type": "code",
   "execution_count": 184,
   "metadata": {},
   "outputs": [],
   "source": [
    "# Membuat dataframe\n",
    "\n",
    "df = pd.DataFrame() \n",
    "df['Nama Produk'] = nama_produk\n",
    "df['Harga Sebelum Diskon'] = harga_sebelum_diskon\n",
    "df['Diskon'] = diskon\n",
    "df['Harga Setelah Diskon'] = harga_setelah_diskon\n",
    "df['Jumlah Terjual atau Ulasan'] = terjual_atau_ulasan\n",
    "df['Gratis Ongkir'] = gratis_ongkir"
   ]
  },
  {
   "cell_type": "code",
   "execution_count": 187,
   "metadata": {},
   "outputs": [],
   "source": [
    "# Menutup driver\n",
    "\n",
    "driver.close()"
   ]
  },
  {
   "cell_type": "code",
   "execution_count": 188,
   "metadata": {},
   "outputs": [
    {
     "data": {
      "text/html": [
       "<div>\n",
       "<style scoped>\n",
       "    .dataframe tbody tr th:only-of-type {\n",
       "        vertical-align: middle;\n",
       "    }\n",
       "\n",
       "    .dataframe tbody tr th {\n",
       "        vertical-align: top;\n",
       "    }\n",
       "\n",
       "    .dataframe thead th {\n",
       "        text-align: right;\n",
       "    }\n",
       "</style>\n",
       "<table border=\"1\" class=\"dataframe\">\n",
       "  <thead>\n",
       "    <tr style=\"text-align: right;\">\n",
       "      <th></th>\n",
       "      <th>Nama Produk</th>\n",
       "      <th>Harga Sebelum Diskon</th>\n",
       "      <th>Diskon</th>\n",
       "      <th>Harga Setelah Diskon</th>\n",
       "      <th>Jumlah Terjual atau Ulasan</th>\n",
       "      <th>Gratis Ongkir</th>\n",
       "    </tr>\n",
       "  </thead>\n",
       "  <tbody>\n",
       "    <tr>\n",
       "      <th>0</th>\n",
       "      <td>Heim Studio KOZU Coffee Table 2in1</td>\n",
       "      <td>Rp1,485,000</td>\n",
       "      <td>42%</td>\n",
       "      <td>Rp859,000</td>\n",
       "      <td>(4055 Terjual)</td>\n",
       "      <td>se-Jabodetabek</td>\n",
       "    </tr>\n",
       "    <tr>\n",
       "      <th>1</th>\n",
       "      <td>Heim Studio KOZU Meja Kerja</td>\n",
       "      <td>Rp1,980,000</td>\n",
       "      <td>47%</td>\n",
       "      <td>Rp1,049,000</td>\n",
       "      <td>(3612 Terjual)</td>\n",
       "      <td>se-Jabodetabek</td>\n",
       "    </tr>\n",
       "    <tr>\n",
       "      <th>2</th>\n",
       "      <td>Heim Studio NANA Meja TV 2in1</td>\n",
       "      <td>Rp2,178,000</td>\n",
       "      <td>52%</td>\n",
       "      <td>Rp1,029,000</td>\n",
       "      <td>(2661 Terjual)</td>\n",
       "      <td>se-Jabodetabek</td>\n",
       "    </tr>\n",
       "    <tr>\n",
       "      <th>3</th>\n",
       "      <td>Heim Studio ISY Meja TV</td>\n",
       "      <td>Rp1,434,000</td>\n",
       "      <td>39%</td>\n",
       "      <td>Rp869,000</td>\n",
       "      <td>(3153 Terjual)</td>\n",
       "      <td>se-Jabodetabek</td>\n",
       "    </tr>\n",
       "    <tr>\n",
       "      <th>4</th>\n",
       "      <td>Heim Studio YVER Meja Makan Multifungsi</td>\n",
       "      <td>Rp3,636,000</td>\n",
       "      <td>48%</td>\n",
       "      <td>Rp1,859,000</td>\n",
       "      <td>(3135 Terjual)</td>\n",
       "      <td>se-Jabodetabek</td>\n",
       "    </tr>\n",
       "    <tr>\n",
       "      <th>...</th>\n",
       "      <td>...</td>\n",
       "      <td>...</td>\n",
       "      <td>...</td>\n",
       "      <td>...</td>\n",
       "      <td>...</td>\n",
       "      <td>...</td>\n",
       "    </tr>\n",
       "    <tr>\n",
       "      <th>115</th>\n",
       "      <td>Tenzo Living ALANO Meja Tamu</td>\n",
       "      <td>Rp8,670,000</td>\n",
       "      <td>25%</td>\n",
       "      <td>Rp6,499,000</td>\n",
       "      <td>None</td>\n",
       "      <td>se-Jabodetabek</td>\n",
       "    </tr>\n",
       "    <tr>\n",
       "      <th>116</th>\n",
       "      <td>Tenzo Living VERLIN Meja Tamu</td>\n",
       "      <td>Rp10,000,000</td>\n",
       "      <td>25%</td>\n",
       "      <td>Rp7,499,000</td>\n",
       "      <td>None</td>\n",
       "      <td>se-Jabodetabek</td>\n",
       "    </tr>\n",
       "    <tr>\n",
       "      <th>117</th>\n",
       "      <td>Heim Studio SOKA Meja Makan</td>\n",
       "      <td>Rp4,053,000</td>\n",
       "      <td>42%</td>\n",
       "      <td>Rp2,349,000</td>\n",
       "      <td>(5 Ulasan)</td>\n",
       "      <td>se-Jabodetabek</td>\n",
       "    </tr>\n",
       "    <tr>\n",
       "      <th>118</th>\n",
       "      <td>Cubic Cubic Meja Komputer Rumah - Meja Kerja L...</td>\n",
       "      <td>Rp430,000</td>\n",
       "      <td>50%</td>\n",
       "      <td>Rp215,000</td>\n",
       "      <td>(34 Terjual)</td>\n",
       "      <td>se-Jawa</td>\n",
       "    </tr>\n",
       "    <tr>\n",
       "      <th>119</th>\n",
       "      <td>Cubic Cubic Rak TV minimalis - Meja TV Minimal...</td>\n",
       "      <td>Rp1,397,000</td>\n",
       "      <td>57%</td>\n",
       "      <td>Rp592,000</td>\n",
       "      <td>(1 Ulasan)</td>\n",
       "      <td>se-Jawa</td>\n",
       "    </tr>\n",
       "  </tbody>\n",
       "</table>\n",
       "<p>120 rows × 6 columns</p>\n",
       "</div>"
      ],
      "text/plain": [
       "                                           Nama Produk Harga Sebelum Diskon  \\\n",
       "0                   Heim Studio KOZU Coffee Table 2in1          Rp1,485,000   \n",
       "1                          Heim Studio KOZU Meja Kerja          Rp1,980,000   \n",
       "2                        Heim Studio NANA Meja TV 2in1          Rp2,178,000   \n",
       "3                              Heim Studio ISY Meja TV          Rp1,434,000   \n",
       "4              Heim Studio YVER Meja Makan Multifungsi          Rp3,636,000   \n",
       "..                                                 ...                  ...   \n",
       "115                       Tenzo Living ALANO Meja Tamu          Rp8,670,000   \n",
       "116                      Tenzo Living VERLIN Meja Tamu         Rp10,000,000   \n",
       "117                        Heim Studio SOKA Meja Makan          Rp4,053,000   \n",
       "118  Cubic Cubic Meja Komputer Rumah - Meja Kerja L...            Rp430,000   \n",
       "119  Cubic Cubic Rak TV minimalis - Meja TV Minimal...          Rp1,397,000   \n",
       "\n",
       "    Diskon Harga Setelah Diskon Jumlah Terjual atau Ulasan   Gratis Ongkir  \n",
       "0      42%            Rp859,000             (4055 Terjual)  se-Jabodetabek  \n",
       "1      47%          Rp1,049,000             (3612 Terjual)  se-Jabodetabek  \n",
       "2      52%          Rp1,029,000             (2661 Terjual)  se-Jabodetabek  \n",
       "3      39%            Rp869,000             (3153 Terjual)  se-Jabodetabek  \n",
       "4      48%          Rp1,859,000             (3135 Terjual)  se-Jabodetabek  \n",
       "..     ...                  ...                        ...             ...  \n",
       "115    25%          Rp6,499,000                       None  se-Jabodetabek  \n",
       "116    25%          Rp7,499,000                       None  se-Jabodetabek  \n",
       "117    42%          Rp2,349,000                 (5 Ulasan)  se-Jabodetabek  \n",
       "118    50%            Rp215,000               (34 Terjual)         se-Jawa  \n",
       "119    57%            Rp592,000                 (1 Ulasan)         se-Jawa  \n",
       "\n",
       "[120 rows x 6 columns]"
      ]
     },
     "execution_count": 188,
     "metadata": {},
     "output_type": "execute_result"
    }
   ],
   "source": [
    "# Memeriksa dataframe\n",
    "\n",
    "df"
   ]
  },
  {
   "cell_type": "markdown",
   "metadata": {},
   "source": [
    "Data telah berhasil di-scraping dan dimasukkan ke dalam dataframe df, yang selanjutnya dapat digunakan untuk analisis lebih lanjut."
   ]
  },
  {
   "cell_type": "markdown",
   "metadata": {},
   "source": [
    "# 4. Data Pre-Processing"
   ]
  },
  {
   "cell_type": "markdown",
   "metadata": {},
   "source": [
    "## 4.1. Exploration Data Analysis (Before Cleaning Process)"
   ]
  },
  {
   "cell_type": "code",
   "execution_count": 189,
   "metadata": {},
   "outputs": [
    {
     "name": "stdout",
     "output_type": "stream",
     "text": [
      "<class 'pandas.core.frame.DataFrame'>\n",
      "RangeIndex: 120 entries, 0 to 119\n",
      "Data columns (total 6 columns):\n",
      " #   Column                      Non-Null Count  Dtype \n",
      "---  ------                      --------------  ----- \n",
      " 0   Nama Produk                 120 non-null    object\n",
      " 1   Harga Sebelum Diskon        120 non-null    object\n",
      " 2   Diskon                      114 non-null    object\n",
      " 3   Harga Setelah Diskon        120 non-null    object\n",
      " 4   Jumlah Terjual atau Ulasan  101 non-null    object\n",
      " 5   Gratis Ongkir               120 non-null    object\n",
      "dtypes: object(6)\n",
      "memory usage: 5.8+ KB\n"
     ]
    }
   ],
   "source": [
    "# Menampilkan informasi atau rangkuman dari dataframe\n",
    "\n",
    "df.info()"
   ]
  },
  {
   "cell_type": "markdown",
   "metadata": {},
   "source": [
    "Berdasarkan informasi yang diperoleh dari dataframe 'df':\n",
    "Data hasil scraping memiliki total 120 baris (indeks 0 sampai dengan 119) dan memiliki 6 kolom.\n",
    "\n",
    "6 kolom pada yang diperoleh dari hasil scraoing yaitu:\n",
    "1. Nama Produk\n",
    "2. Harga Sebelum Diskon\n",
    "3. Diskon\n",
    "4. Harga Setelah Diskon\n",
    "5. Jumlah Terjual atau Ulasan\n",
    "6. Gratis Ongkir\n",
    "\n",
    "Setiap kolom memiliki karakteristik masing-masing, diantaranya:\n",
    "\n",
    "1. Nama Produk\n",
    "    - Berisi nama produk yang di jual pada laman website dekoruma.\n",
    "    - Dari total 120 data, semuanya tersedia, artinya tidak ada missing value atau data hilang.\n",
    "    - Tipe data adalah object. Tipe ini sudah sesuai karena nama produk memang berupa teks sehingga tidak perlu dilakukan perubahan.\n",
    "\n",
    "2. Harga Sebelum Diskon\n",
    "    - Berisi harga produk sebelum dipotong diskon, yang di jual pada laman website dekoruma.\n",
    "    - Dari total 120 data, semuanya tersedia, artinya tidak ada missing value atau data hilang.\n",
    "    - Tipe data adalah object. Tipe ini kurang sesuai karena harga produk seharusnya berupa integer agar data dapat digunakan untuk perhitungan. Oleh karena itu perlu dilakukan perubahan data dengan menghapus karakter non numeric dan mengkonversi menjadi integer.\n",
    "    \n",
    "    Contoh data pada kolom ini:\n",
    "     \n",
    "    Rp1,485,000\n",
    "\n",
    "    Perlu diubah menjadi:\n",
    "    \n",
    "    1485000\n",
    "\n",
    "    Maka pada perubahan data nantinya, perlu menghilangkan karakter 'Rp' tanda koma (,), kemudian mengubah data menjadi integer.\n",
    "\n",
    "3. Diskon\n",
    "    - Berisi diskon atau potongan harga produk di jual pada laman website dekoruma.\n",
    "    - Dari total 120 data, 114 non-null, artinya terdapat missing value atau data hilang. (Hal ini kemungkinan disebabkan oleh produk-produk yang tidak memiliki diskon)\n",
    "    - Tipe data adalah object. Tipe ini kurang sesuai karena diskon seharusnya berupa float agar data dapat digunakan untuk perhitungan. Oleh karena itu perlu dilakukan perubahan data dengan menghapus karakter non numeric dan mengkonversi menjadi float.\n",
    "    - Perbaikan lain yang diperlukan pada kolom ini yaitu mengubah data-data 'None' menjadi 0 (integer) agar dapat digunakan dalam perhitungan dan analisis.\n",
    "    \n",
    "    Contoh data pada kolom ini:\n",
    "     \n",
    "    57%\t\n",
    "\n",
    "    Perlu diubah menjadi:\n",
    "    \n",
    "    0,57\n",
    "\n",
    "    Maka pada perubahan data nantinya, perlu menghilangkan karakter '%' kemudian mengubah data menjadi integer, dan mengembalikan skalanya menjaid desimal agar sama dengan presentase awal.\n",
    "\n",
    "4. Harga Setelah Diskon\n",
    "    - Berisi harga produk setelah dipotong diskon, yang di jual pada laman website dekoruma.\n",
    "    - Dari total 120 data, semuanya tersedia, artinya tidak ada missing value atau data hilang. (Hal ini bisa terjadi karena jika tidak ada diskon, maka proses scraping mengambil data yang sama dengan harga sebelum diskon, jadi dianggap diskonnya 0)\n",
    "    - Tipe data adalah object. Tipe ini kurang sesuai karena harga produk seharusnya berupa integer agar data dapat digunakan untuk perhitungan. Oleh karena itu perlu dilakukan perubahan data dengan menghapus karakter non numeric dan mengkonversi menjadi integer.\n",
    "    \n",
    "    Contoh data pada kolom ini:\n",
    "     \n",
    "    Rp859,000\t\n",
    "\n",
    "    Perlu diubah menjadi:\n",
    "    \n",
    "    859000\n",
    "\n",
    "    Maka pada perubahan data nantinya, perlu menghilangkan karakter 'Rp' tanda koma (,), kemudian mengubah data menjadi integer.\n",
    "\n",
    "5. Jumlah Terjual atau Ulasan\n",
    "    - Berisi jumlah terjual atau ulasan yang didapat dari produk yang di jual pada laman website dekoruma.\n",
    "    - Dari total 120 data, 101 non-null, artinya terdapat missing value atau data hilang. (Hal ini kemungkinan disebabkan oleh produk-produk yang belum pernah terjual atau belum memiliki ulasan sama sekali)\n",
    "    - Tipe data adalah object. Tipe ini kurang sudah sesuai karena kolom ini beberapa jumlah terjual dan beberapa berisikan ulasan (jadi tercampur). Oleh karena itu, keterangan 'terjual' atau 'ulasan' di belakang angka tidak boleh dihapus karena sebagai penjelas. \n",
    "    - Perbaikan yang diperlukan pada kolom ini yaitu menghapus tanda kurung '()' pada data karena tidak diperlukan. Selain itu, juga perlu untuk mengubah data dengan value 'None' dengan keterangan agar jelas apabila tidak ada pembelian maupun ulasan.\n",
    "    \n",
    "    Contoh data pada kolom ini:\n",
    "     \n",
    "    (4055 Terjual)\t\n",
    "\n",
    "    Perlu diubah menjadi:\n",
    "    \n",
    "    4055 Terjual\n",
    "\n",
    "6. Gratis Ongkir\n",
    "    - Berisi jenis gratis ongkir yang tersedia yang bisa didapat ketika membeli produk yang di jual pada laman website dekoruma.\n",
    "    - Dari total 120 data, semuanya tersedia, artinya tidak ada missing value atau data hilang.\n",
    "    - Tipe data  adalah object. Tipe ini sudah sesuai karena gratis ongkir memang berupa teks sehingga tidak perlu dilakukan perubahan."
   ]
  },
  {
   "cell_type": "markdown",
   "metadata": {},
   "source": [
    "## 4.2 Data Pre-Processing (Cleaning and Fixing The Data)"
   ]
  },
  {
   "cell_type": "markdown",
   "metadata": {},
   "source": [
    "Seperti yang sudah dijelaskan pada bagian sebelumnya, pada bagian ini akan dilakukan perbaikan pada kolom-kolom yang perlu diperbaiki. Diantaranya: Harga Sebelum Diskon, Diskon, Harga Setelah Diskon, serta Jumlah Terjual dan Ulasan."
   ]
  },
  {
   "cell_type": "markdown",
   "metadata": {},
   "source": [
    "### 4.2.1. Memperbaiki Harga Produk Sebelum Diskon"
   ]
  },
  {
   "cell_type": "code",
   "execution_count": 190,
   "metadata": {},
   "outputs": [
    {
     "data": {
      "text/html": [
       "<div>\n",
       "<style scoped>\n",
       "    .dataframe tbody tr th:only-of-type {\n",
       "        vertical-align: middle;\n",
       "    }\n",
       "\n",
       "    .dataframe tbody tr th {\n",
       "        vertical-align: top;\n",
       "    }\n",
       "\n",
       "    .dataframe thead th {\n",
       "        text-align: right;\n",
       "    }\n",
       "</style>\n",
       "<table border=\"1\" class=\"dataframe\">\n",
       "  <thead>\n",
       "    <tr style=\"text-align: right;\">\n",
       "      <th></th>\n",
       "      <th>Nama Produk</th>\n",
       "      <th>Harga Sebelum Diskon</th>\n",
       "      <th>Diskon</th>\n",
       "      <th>Harga Setelah Diskon</th>\n",
       "      <th>Jumlah Terjual atau Ulasan</th>\n",
       "      <th>Gratis Ongkir</th>\n",
       "    </tr>\n",
       "  </thead>\n",
       "  <tbody>\n",
       "    <tr>\n",
       "      <th>0</th>\n",
       "      <td>Heim Studio KOZU Coffee Table 2in1</td>\n",
       "      <td>Rp1,485,000</td>\n",
       "      <td>42%</td>\n",
       "      <td>Rp859,000</td>\n",
       "      <td>(4055 Terjual)</td>\n",
       "      <td>se-Jabodetabek</td>\n",
       "    </tr>\n",
       "    <tr>\n",
       "      <th>1</th>\n",
       "      <td>Heim Studio KOZU Meja Kerja</td>\n",
       "      <td>Rp1,980,000</td>\n",
       "      <td>47%</td>\n",
       "      <td>Rp1,049,000</td>\n",
       "      <td>(3612 Terjual)</td>\n",
       "      <td>se-Jabodetabek</td>\n",
       "    </tr>\n",
       "    <tr>\n",
       "      <th>2</th>\n",
       "      <td>Heim Studio NANA Meja TV 2in1</td>\n",
       "      <td>Rp2,178,000</td>\n",
       "      <td>52%</td>\n",
       "      <td>Rp1,029,000</td>\n",
       "      <td>(2661 Terjual)</td>\n",
       "      <td>se-Jabodetabek</td>\n",
       "    </tr>\n",
       "    <tr>\n",
       "      <th>3</th>\n",
       "      <td>Heim Studio ISY Meja TV</td>\n",
       "      <td>Rp1,434,000</td>\n",
       "      <td>39%</td>\n",
       "      <td>Rp869,000</td>\n",
       "      <td>(3153 Terjual)</td>\n",
       "      <td>se-Jabodetabek</td>\n",
       "    </tr>\n",
       "    <tr>\n",
       "      <th>4</th>\n",
       "      <td>Heim Studio YVER Meja Makan Multifungsi</td>\n",
       "      <td>Rp3,636,000</td>\n",
       "      <td>48%</td>\n",
       "      <td>Rp1,859,000</td>\n",
       "      <td>(3135 Terjual)</td>\n",
       "      <td>se-Jabodetabek</td>\n",
       "    </tr>\n",
       "  </tbody>\n",
       "</table>\n",
       "</div>"
      ],
      "text/plain": [
       "                               Nama Produk Harga Sebelum Diskon Diskon  \\\n",
       "0       Heim Studio KOZU Coffee Table 2in1          Rp1,485,000    42%   \n",
       "1              Heim Studio KOZU Meja Kerja          Rp1,980,000    47%   \n",
       "2            Heim Studio NANA Meja TV 2in1          Rp2,178,000    52%   \n",
       "3                  Heim Studio ISY Meja TV          Rp1,434,000    39%   \n",
       "4  Heim Studio YVER Meja Makan Multifungsi          Rp3,636,000    48%   \n",
       "\n",
       "  Harga Setelah Diskon Jumlah Terjual atau Ulasan   Gratis Ongkir  \n",
       "0            Rp859,000             (4055 Terjual)  se-Jabodetabek  \n",
       "1          Rp1,049,000             (3612 Terjual)  se-Jabodetabek  \n",
       "2          Rp1,029,000             (2661 Terjual)  se-Jabodetabek  \n",
       "3            Rp869,000             (3153 Terjual)  se-Jabodetabek  \n",
       "4          Rp1,859,000             (3135 Terjual)  se-Jabodetabek  "
      ]
     },
     "execution_count": 190,
     "metadata": {},
     "output_type": "execute_result"
    }
   ],
   "source": [
    "df.head()"
   ]
  },
  {
   "cell_type": "code",
   "execution_count": 191,
   "metadata": {},
   "outputs": [
    {
     "name": "stdout",
     "output_type": "stream",
     "text": [
      "<class 'pandas.core.frame.DataFrame'>\n",
      "RangeIndex: 120 entries, 0 to 119\n",
      "Data columns (total 6 columns):\n",
      " #   Column                      Non-Null Count  Dtype \n",
      "---  ------                      --------------  ----- \n",
      " 0   Nama Produk                 120 non-null    object\n",
      " 1   Harga Sebelum Diskon        120 non-null    object\n",
      " 2   Diskon                      114 non-null    object\n",
      " 3   Harga Setelah Diskon        120 non-null    object\n",
      " 4   Jumlah Terjual atau Ulasan  101 non-null    object\n",
      " 5   Gratis Ongkir               120 non-null    object\n",
      "dtypes: object(6)\n",
      "memory usage: 5.8+ KB\n"
     ]
    }
   ],
   "source": [
    "df.info()"
   ]
  },
  {
   "cell_type": "markdown",
   "metadata": {},
   "source": [
    "Pada data harga sebelum diskon, tipe data adalah object. Tipe ini kurang sesuai karena harga produk seharusnya berupa integer agar data dapat digunakan untuk perhitungan dan analisis lebih lanjut.p  Perbaikan yang perlu dilakukan adalah menghapus karakter non numeric dan mengkonversi menjadi integer.\n",
    "\n",
    "Contoh data pada kolom ini:\n",
    "     \n",
    "Rp1,485,000\n",
    "\n",
    "Perlu diubah menjadi:\n",
    "    \n",
    "1485000\n",
    "\n",
    "Maka pada perubahan data nantinya, perlu menghilangkan karakter 'Rp' tanda koma (,), kemudian mengubah data menjadi integer."
   ]
  },
  {
   "cell_type": "code",
   "execution_count": 192,
   "metadata": {},
   "outputs": [],
   "source": [
    "df[\"Harga Sebelum Diskon\"] = df[\"Harga Sebelum Diskon\"].str.replace(\"Rp\", \"\") # Menghapus \"Rp\" pada harga sebelum diskon\n",
    "df[\"Harga Sebelum Diskon\"] = df[\"Harga Sebelum Diskon\"].str.replace(\",\", \"\") # Menghapus \",\" pada harga sebelum diskon\n",
    "df[\"Harga Sebelum Diskon\"] = df[\"Harga Sebelum Diskon\"].astype(\"Int64\") # Mengubah tipe data menjadi integer"
   ]
  },
  {
   "cell_type": "code",
   "execution_count": 193,
   "metadata": {},
   "outputs": [
    {
     "data": {
      "text/html": [
       "<div>\n",
       "<style scoped>\n",
       "    .dataframe tbody tr th:only-of-type {\n",
       "        vertical-align: middle;\n",
       "    }\n",
       "\n",
       "    .dataframe tbody tr th {\n",
       "        vertical-align: top;\n",
       "    }\n",
       "\n",
       "    .dataframe thead th {\n",
       "        text-align: right;\n",
       "    }\n",
       "</style>\n",
       "<table border=\"1\" class=\"dataframe\">\n",
       "  <thead>\n",
       "    <tr style=\"text-align: right;\">\n",
       "      <th></th>\n",
       "      <th>Nama Produk</th>\n",
       "      <th>Harga Sebelum Diskon</th>\n",
       "      <th>Diskon</th>\n",
       "      <th>Harga Setelah Diskon</th>\n",
       "      <th>Jumlah Terjual atau Ulasan</th>\n",
       "      <th>Gratis Ongkir</th>\n",
       "    </tr>\n",
       "  </thead>\n",
       "  <tbody>\n",
       "    <tr>\n",
       "      <th>0</th>\n",
       "      <td>Heim Studio KOZU Coffee Table 2in1</td>\n",
       "      <td>1485000</td>\n",
       "      <td>42%</td>\n",
       "      <td>Rp859,000</td>\n",
       "      <td>(4055 Terjual)</td>\n",
       "      <td>se-Jabodetabek</td>\n",
       "    </tr>\n",
       "    <tr>\n",
       "      <th>1</th>\n",
       "      <td>Heim Studio KOZU Meja Kerja</td>\n",
       "      <td>1980000</td>\n",
       "      <td>47%</td>\n",
       "      <td>Rp1,049,000</td>\n",
       "      <td>(3612 Terjual)</td>\n",
       "      <td>se-Jabodetabek</td>\n",
       "    </tr>\n",
       "    <tr>\n",
       "      <th>2</th>\n",
       "      <td>Heim Studio NANA Meja TV 2in1</td>\n",
       "      <td>2178000</td>\n",
       "      <td>52%</td>\n",
       "      <td>Rp1,029,000</td>\n",
       "      <td>(2661 Terjual)</td>\n",
       "      <td>se-Jabodetabek</td>\n",
       "    </tr>\n",
       "    <tr>\n",
       "      <th>3</th>\n",
       "      <td>Heim Studio ISY Meja TV</td>\n",
       "      <td>1434000</td>\n",
       "      <td>39%</td>\n",
       "      <td>Rp869,000</td>\n",
       "      <td>(3153 Terjual)</td>\n",
       "      <td>se-Jabodetabek</td>\n",
       "    </tr>\n",
       "    <tr>\n",
       "      <th>4</th>\n",
       "      <td>Heim Studio YVER Meja Makan Multifungsi</td>\n",
       "      <td>3636000</td>\n",
       "      <td>48%</td>\n",
       "      <td>Rp1,859,000</td>\n",
       "      <td>(3135 Terjual)</td>\n",
       "      <td>se-Jabodetabek</td>\n",
       "    </tr>\n",
       "  </tbody>\n",
       "</table>\n",
       "</div>"
      ],
      "text/plain": [
       "                               Nama Produk  Harga Sebelum Diskon Diskon  \\\n",
       "0       Heim Studio KOZU Coffee Table 2in1               1485000    42%   \n",
       "1              Heim Studio KOZU Meja Kerja               1980000    47%   \n",
       "2            Heim Studio NANA Meja TV 2in1               2178000    52%   \n",
       "3                  Heim Studio ISY Meja TV               1434000    39%   \n",
       "4  Heim Studio YVER Meja Makan Multifungsi               3636000    48%   \n",
       "\n",
       "  Harga Setelah Diskon Jumlah Terjual atau Ulasan   Gratis Ongkir  \n",
       "0            Rp859,000             (4055 Terjual)  se-Jabodetabek  \n",
       "1          Rp1,049,000             (3612 Terjual)  se-Jabodetabek  \n",
       "2          Rp1,029,000             (2661 Terjual)  se-Jabodetabek  \n",
       "3            Rp869,000             (3153 Terjual)  se-Jabodetabek  \n",
       "4          Rp1,859,000             (3135 Terjual)  se-Jabodetabek  "
      ]
     },
     "execution_count": 193,
     "metadata": {},
     "output_type": "execute_result"
    }
   ],
   "source": [
    "df.head()"
   ]
  },
  {
   "cell_type": "code",
   "execution_count": 194,
   "metadata": {},
   "outputs": [
    {
     "name": "stdout",
     "output_type": "stream",
     "text": [
      "<class 'pandas.core.frame.DataFrame'>\n",
      "RangeIndex: 120 entries, 0 to 119\n",
      "Data columns (total 6 columns):\n",
      " #   Column                      Non-Null Count  Dtype \n",
      "---  ------                      --------------  ----- \n",
      " 0   Nama Produk                 120 non-null    object\n",
      " 1   Harga Sebelum Diskon        120 non-null    Int64 \n",
      " 2   Diskon                      114 non-null    object\n",
      " 3   Harga Setelah Diskon        120 non-null    object\n",
      " 4   Jumlah Terjual atau Ulasan  101 non-null    object\n",
      " 5   Gratis Ongkir               120 non-null    object\n",
      "dtypes: Int64(1), object(5)\n",
      "memory usage: 5.9+ KB\n"
     ]
    }
   ],
   "source": [
    "df.info()"
   ]
  },
  {
   "cell_type": "markdown",
   "metadata": {},
   "source": [
    "Berdasarkan output di atas, terlihat bahwa karakter 'Rp' tanda koma (,) pada data Harga Sebelum Diskon sudah berhasil dihilangkan. Selain itu tipe data juga sudah berhasil diubah menjadi integer. Sehingga, perbaikan untuk data Harga Sebelum Diskon sudah selesai."
   ]
  },
  {
   "cell_type": "markdown",
   "metadata": {},
   "source": [
    "### 4.2.2. Memperbaiki Diskon"
   ]
  },
  {
   "cell_type": "code",
   "execution_count": 195,
   "metadata": {},
   "outputs": [],
   "source": [
    "df[\"Diskon\"] = df[\"Diskon\"].str.replace(\"%\", \"\") # Menghapus \",\" pada harga sebelum diskon\n",
    "df[\"Diskon\"] = df[\"Diskon\"].astype(\"float\") # Mengubah tipe data menjadi float\n",
    "df[\"Diskon\"] = df[\"Diskon\"] / 100 # Membagi data dengan 100 agar skala nya sama dengan presentase awal (supaya nilainya tidak berubah)"
   ]
  },
  {
   "cell_type": "code",
   "execution_count": 196,
   "metadata": {},
   "outputs": [],
   "source": [
    "# Menangani missing value\n",
    "\n",
    "df[\"Diskon\"] = df[\"Diskon\"].replace({np.NaN: 0}) # Mengganti data 'NaN' dengan nilai 0 (Karena data NaN berarti tidak ada diskon sehingga bisa diganti dengan 0)"
   ]
  },
  {
   "cell_type": "code",
   "execution_count": 197,
   "metadata": {},
   "outputs": [
    {
     "data": {
      "text/html": [
       "<div>\n",
       "<style scoped>\n",
       "    .dataframe tbody tr th:only-of-type {\n",
       "        vertical-align: middle;\n",
       "    }\n",
       "\n",
       "    .dataframe tbody tr th {\n",
       "        vertical-align: top;\n",
       "    }\n",
       "\n",
       "    .dataframe thead th {\n",
       "        text-align: right;\n",
       "    }\n",
       "</style>\n",
       "<table border=\"1\" class=\"dataframe\">\n",
       "  <thead>\n",
       "    <tr style=\"text-align: right;\">\n",
       "      <th></th>\n",
       "      <th>Nama Produk</th>\n",
       "      <th>Harga Sebelum Diskon</th>\n",
       "      <th>Diskon</th>\n",
       "      <th>Harga Setelah Diskon</th>\n",
       "      <th>Jumlah Terjual atau Ulasan</th>\n",
       "      <th>Gratis Ongkir</th>\n",
       "    </tr>\n",
       "  </thead>\n",
       "  <tbody>\n",
       "    <tr>\n",
       "      <th>0</th>\n",
       "      <td>Heim Studio KOZU Coffee Table 2in1</td>\n",
       "      <td>1485000</td>\n",
       "      <td>0.42</td>\n",
       "      <td>Rp859,000</td>\n",
       "      <td>(4055 Terjual)</td>\n",
       "      <td>se-Jabodetabek</td>\n",
       "    </tr>\n",
       "    <tr>\n",
       "      <th>1</th>\n",
       "      <td>Heim Studio KOZU Meja Kerja</td>\n",
       "      <td>1980000</td>\n",
       "      <td>0.47</td>\n",
       "      <td>Rp1,049,000</td>\n",
       "      <td>(3612 Terjual)</td>\n",
       "      <td>se-Jabodetabek</td>\n",
       "    </tr>\n",
       "    <tr>\n",
       "      <th>2</th>\n",
       "      <td>Heim Studio NANA Meja TV 2in1</td>\n",
       "      <td>2178000</td>\n",
       "      <td>0.52</td>\n",
       "      <td>Rp1,029,000</td>\n",
       "      <td>(2661 Terjual)</td>\n",
       "      <td>se-Jabodetabek</td>\n",
       "    </tr>\n",
       "    <tr>\n",
       "      <th>3</th>\n",
       "      <td>Heim Studio ISY Meja TV</td>\n",
       "      <td>1434000</td>\n",
       "      <td>0.39</td>\n",
       "      <td>Rp869,000</td>\n",
       "      <td>(3153 Terjual)</td>\n",
       "      <td>se-Jabodetabek</td>\n",
       "    </tr>\n",
       "    <tr>\n",
       "      <th>4</th>\n",
       "      <td>Heim Studio YVER Meja Makan Multifungsi</td>\n",
       "      <td>3636000</td>\n",
       "      <td>0.48</td>\n",
       "      <td>Rp1,859,000</td>\n",
       "      <td>(3135 Terjual)</td>\n",
       "      <td>se-Jabodetabek</td>\n",
       "    </tr>\n",
       "  </tbody>\n",
       "</table>\n",
       "</div>"
      ],
      "text/plain": [
       "                               Nama Produk  Harga Sebelum Diskon  Diskon  \\\n",
       "0       Heim Studio KOZU Coffee Table 2in1               1485000    0.42   \n",
       "1              Heim Studio KOZU Meja Kerja               1980000    0.47   \n",
       "2            Heim Studio NANA Meja TV 2in1               2178000    0.52   \n",
       "3                  Heim Studio ISY Meja TV               1434000    0.39   \n",
       "4  Heim Studio YVER Meja Makan Multifungsi               3636000    0.48   \n",
       "\n",
       "  Harga Setelah Diskon Jumlah Terjual atau Ulasan   Gratis Ongkir  \n",
       "0            Rp859,000             (4055 Terjual)  se-Jabodetabek  \n",
       "1          Rp1,049,000             (3612 Terjual)  se-Jabodetabek  \n",
       "2          Rp1,029,000             (2661 Terjual)  se-Jabodetabek  \n",
       "3            Rp869,000             (3153 Terjual)  se-Jabodetabek  \n",
       "4          Rp1,859,000             (3135 Terjual)  se-Jabodetabek  "
      ]
     },
     "execution_count": 197,
     "metadata": {},
     "output_type": "execute_result"
    }
   ],
   "source": [
    "df.head()"
   ]
  },
  {
   "cell_type": "code",
   "execution_count": 198,
   "metadata": {},
   "outputs": [
    {
     "name": "stdout",
     "output_type": "stream",
     "text": [
      "<class 'pandas.core.frame.DataFrame'>\n",
      "RangeIndex: 120 entries, 0 to 119\n",
      "Data columns (total 6 columns):\n",
      " #   Column                      Non-Null Count  Dtype  \n",
      "---  ------                      --------------  -----  \n",
      " 0   Nama Produk                 120 non-null    object \n",
      " 1   Harga Sebelum Diskon        120 non-null    Int64  \n",
      " 2   Diskon                      120 non-null    float64\n",
      " 3   Harga Setelah Diskon        120 non-null    object \n",
      " 4   Jumlah Terjual atau Ulasan  101 non-null    object \n",
      " 5   Gratis Ongkir               120 non-null    object \n",
      "dtypes: Int64(1), float64(1), object(4)\n",
      "memory usage: 5.9+ KB\n"
     ]
    }
   ],
   "source": [
    "df.info()"
   ]
  },
  {
   "cell_type": "markdown",
   "metadata": {},
   "source": [
    "Berdasarkan output di atas, terlihat bahwa karakter '%' pada data Diskon sudah berhasil dihilangkan. Selain itu tipe data juga sudah berhasil diubah menjadi float. Data juga dibagi dengan 100 agar nilainya tidak berubah. Data yang berisikan 'Nan' juga sudah diubah menjadi 0 sehingga tidak ada lagi missing value. Sehingga, perbaikan untuk data Diskon sudah selesai."
   ]
  },
  {
   "cell_type": "markdown",
   "metadata": {},
   "source": [
    "### 4.2.3. Memperbaiki Harga Setelah Diskon"
   ]
  },
  {
   "cell_type": "code",
   "execution_count": 199,
   "metadata": {},
   "outputs": [],
   "source": [
    "df[\"Harga Setelah Diskon\"] = df[\"Harga Setelah Diskon\"].str.replace(\"Rp\", \"\") # Menghapus \"Rp\" pada harga setelah diskon\n",
    "df[\"Harga Setelah Diskon\"] = df[\"Harga Setelah Diskon\"].str.replace(\",\", \"\") # Menghapus \",\" pada harga setelah diskon\n",
    "df[\"Harga Setelah Diskon\"] = df[\"Harga Setelah Diskon\"].astype(\"Int64\") # Mengubah tipe data menjadi integer"
   ]
  },
  {
   "cell_type": "code",
   "execution_count": 200,
   "metadata": {},
   "outputs": [
    {
     "data": {
      "text/html": [
       "<div>\n",
       "<style scoped>\n",
       "    .dataframe tbody tr th:only-of-type {\n",
       "        vertical-align: middle;\n",
       "    }\n",
       "\n",
       "    .dataframe tbody tr th {\n",
       "        vertical-align: top;\n",
       "    }\n",
       "\n",
       "    .dataframe thead th {\n",
       "        text-align: right;\n",
       "    }\n",
       "</style>\n",
       "<table border=\"1\" class=\"dataframe\">\n",
       "  <thead>\n",
       "    <tr style=\"text-align: right;\">\n",
       "      <th></th>\n",
       "      <th>Nama Produk</th>\n",
       "      <th>Harga Sebelum Diskon</th>\n",
       "      <th>Diskon</th>\n",
       "      <th>Harga Setelah Diskon</th>\n",
       "      <th>Jumlah Terjual atau Ulasan</th>\n",
       "      <th>Gratis Ongkir</th>\n",
       "    </tr>\n",
       "  </thead>\n",
       "  <tbody>\n",
       "    <tr>\n",
       "      <th>0</th>\n",
       "      <td>Heim Studio KOZU Coffee Table 2in1</td>\n",
       "      <td>1485000</td>\n",
       "      <td>0.42</td>\n",
       "      <td>859000</td>\n",
       "      <td>(4055 Terjual)</td>\n",
       "      <td>se-Jabodetabek</td>\n",
       "    </tr>\n",
       "    <tr>\n",
       "      <th>1</th>\n",
       "      <td>Heim Studio KOZU Meja Kerja</td>\n",
       "      <td>1980000</td>\n",
       "      <td>0.47</td>\n",
       "      <td>1049000</td>\n",
       "      <td>(3612 Terjual)</td>\n",
       "      <td>se-Jabodetabek</td>\n",
       "    </tr>\n",
       "    <tr>\n",
       "      <th>2</th>\n",
       "      <td>Heim Studio NANA Meja TV 2in1</td>\n",
       "      <td>2178000</td>\n",
       "      <td>0.52</td>\n",
       "      <td>1029000</td>\n",
       "      <td>(2661 Terjual)</td>\n",
       "      <td>se-Jabodetabek</td>\n",
       "    </tr>\n",
       "    <tr>\n",
       "      <th>3</th>\n",
       "      <td>Heim Studio ISY Meja TV</td>\n",
       "      <td>1434000</td>\n",
       "      <td>0.39</td>\n",
       "      <td>869000</td>\n",
       "      <td>(3153 Terjual)</td>\n",
       "      <td>se-Jabodetabek</td>\n",
       "    </tr>\n",
       "    <tr>\n",
       "      <th>4</th>\n",
       "      <td>Heim Studio YVER Meja Makan Multifungsi</td>\n",
       "      <td>3636000</td>\n",
       "      <td>0.48</td>\n",
       "      <td>1859000</td>\n",
       "      <td>(3135 Terjual)</td>\n",
       "      <td>se-Jabodetabek</td>\n",
       "    </tr>\n",
       "  </tbody>\n",
       "</table>\n",
       "</div>"
      ],
      "text/plain": [
       "                               Nama Produk  Harga Sebelum Diskon  Diskon  \\\n",
       "0       Heim Studio KOZU Coffee Table 2in1               1485000    0.42   \n",
       "1              Heim Studio KOZU Meja Kerja               1980000    0.47   \n",
       "2            Heim Studio NANA Meja TV 2in1               2178000    0.52   \n",
       "3                  Heim Studio ISY Meja TV               1434000    0.39   \n",
       "4  Heim Studio YVER Meja Makan Multifungsi               3636000    0.48   \n",
       "\n",
       "   Harga Setelah Diskon Jumlah Terjual atau Ulasan   Gratis Ongkir  \n",
       "0                859000             (4055 Terjual)  se-Jabodetabek  \n",
       "1               1049000             (3612 Terjual)  se-Jabodetabek  \n",
       "2               1029000             (2661 Terjual)  se-Jabodetabek  \n",
       "3                869000             (3153 Terjual)  se-Jabodetabek  \n",
       "4               1859000             (3135 Terjual)  se-Jabodetabek  "
      ]
     },
     "execution_count": 200,
     "metadata": {},
     "output_type": "execute_result"
    }
   ],
   "source": [
    "df.head()"
   ]
  },
  {
   "cell_type": "code",
   "execution_count": 201,
   "metadata": {},
   "outputs": [
    {
     "name": "stdout",
     "output_type": "stream",
     "text": [
      "<class 'pandas.core.frame.DataFrame'>\n",
      "RangeIndex: 120 entries, 0 to 119\n",
      "Data columns (total 6 columns):\n",
      " #   Column                      Non-Null Count  Dtype  \n",
      "---  ------                      --------------  -----  \n",
      " 0   Nama Produk                 120 non-null    object \n",
      " 1   Harga Sebelum Diskon        120 non-null    Int64  \n",
      " 2   Diskon                      120 non-null    float64\n",
      " 3   Harga Setelah Diskon        120 non-null    Int64  \n",
      " 4   Jumlah Terjual atau Ulasan  101 non-null    object \n",
      " 5   Gratis Ongkir               120 non-null    object \n",
      "dtypes: Int64(2), float64(1), object(3)\n",
      "memory usage: 6.0+ KB\n"
     ]
    }
   ],
   "source": [
    "df.info()"
   ]
  },
  {
   "cell_type": "markdown",
   "metadata": {},
   "source": [
    "Berdasarkan output di atas, terlihat bahwa karakter 'Rp' tanda koma (,) pada data Harga Setelah Diskon sudah berhasil dihilangkan. Selain itu tipe data juga sudah berhasil diubah menjadi integer. Sehingga, perbaikan untuk data Harga Setelah Diskon sudah selesai."
   ]
  },
  {
   "cell_type": "markdown",
   "metadata": {},
   "source": [
    "### 4.2.4. Memperbaiki Jumlah Terjual atau Ulasan"
   ]
  },
  {
   "cell_type": "code",
   "execution_count": 202,
   "metadata": {},
   "outputs": [],
   "source": [
    "df[\"Jumlah Terjual atau Ulasan\"] = df[\"Jumlah Terjual atau Ulasan\"].str.replace(\"(\", \"\") # Menghapus \"(\" pada harga setelah diskon\n",
    "df[\"Jumlah Terjual atau Ulasan\"] = df[\"Jumlah Terjual atau Ulasan\"].str.replace(\")\", \"\") # Menghapus \")\" pada harga setelah diskon"
   ]
  },
  {
   "cell_type": "code",
   "execution_count": 205,
   "metadata": {},
   "outputs": [],
   "source": [
    "# Menangani missing value\n",
    "\n",
    "df[\"Jumlah Terjual atau Ulasan\"] = df[\"Jumlah Terjual atau Ulasan\"].replace({None: \"Belum Terjual atau Diulas\"}) # Mengganti data 'None' dengan 'Belum Terjual atau Diulas'"
   ]
  },
  {
   "cell_type": "code",
   "execution_count": 207,
   "metadata": {},
   "outputs": [
    {
     "data": {
      "text/html": [
       "<div>\n",
       "<style scoped>\n",
       "    .dataframe tbody tr th:only-of-type {\n",
       "        vertical-align: middle;\n",
       "    }\n",
       "\n",
       "    .dataframe tbody tr th {\n",
       "        vertical-align: top;\n",
       "    }\n",
       "\n",
       "    .dataframe thead th {\n",
       "        text-align: right;\n",
       "    }\n",
       "</style>\n",
       "<table border=\"1\" class=\"dataframe\">\n",
       "  <thead>\n",
       "    <tr style=\"text-align: right;\">\n",
       "      <th></th>\n",
       "      <th>Nama Produk</th>\n",
       "      <th>Harga Sebelum Diskon</th>\n",
       "      <th>Diskon</th>\n",
       "      <th>Harga Setelah Diskon</th>\n",
       "      <th>Jumlah Terjual atau Ulasan</th>\n",
       "      <th>Gratis Ongkir</th>\n",
       "    </tr>\n",
       "  </thead>\n",
       "  <tbody>\n",
       "    <tr>\n",
       "      <th>0</th>\n",
       "      <td>Heim Studio KOZU Coffee Table 2in1</td>\n",
       "      <td>1485000</td>\n",
       "      <td>0.42</td>\n",
       "      <td>859000</td>\n",
       "      <td>4055 Terjual</td>\n",
       "      <td>se-Jabodetabek</td>\n",
       "    </tr>\n",
       "    <tr>\n",
       "      <th>1</th>\n",
       "      <td>Heim Studio KOZU Meja Kerja</td>\n",
       "      <td>1980000</td>\n",
       "      <td>0.47</td>\n",
       "      <td>1049000</td>\n",
       "      <td>3612 Terjual</td>\n",
       "      <td>se-Jabodetabek</td>\n",
       "    </tr>\n",
       "    <tr>\n",
       "      <th>2</th>\n",
       "      <td>Heim Studio NANA Meja TV 2in1</td>\n",
       "      <td>2178000</td>\n",
       "      <td>0.52</td>\n",
       "      <td>1029000</td>\n",
       "      <td>2661 Terjual</td>\n",
       "      <td>se-Jabodetabek</td>\n",
       "    </tr>\n",
       "    <tr>\n",
       "      <th>3</th>\n",
       "      <td>Heim Studio ISY Meja TV</td>\n",
       "      <td>1434000</td>\n",
       "      <td>0.39</td>\n",
       "      <td>869000</td>\n",
       "      <td>3153 Terjual</td>\n",
       "      <td>se-Jabodetabek</td>\n",
       "    </tr>\n",
       "    <tr>\n",
       "      <th>4</th>\n",
       "      <td>Heim Studio YVER Meja Makan Multifungsi</td>\n",
       "      <td>3636000</td>\n",
       "      <td>0.48</td>\n",
       "      <td>1859000</td>\n",
       "      <td>3135 Terjual</td>\n",
       "      <td>se-Jabodetabek</td>\n",
       "    </tr>\n",
       "  </tbody>\n",
       "</table>\n",
       "</div>"
      ],
      "text/plain": [
       "                               Nama Produk  Harga Sebelum Diskon  Diskon  \\\n",
       "0       Heim Studio KOZU Coffee Table 2in1               1485000    0.42   \n",
       "1              Heim Studio KOZU Meja Kerja               1980000    0.47   \n",
       "2            Heim Studio NANA Meja TV 2in1               2178000    0.52   \n",
       "3                  Heim Studio ISY Meja TV               1434000    0.39   \n",
       "4  Heim Studio YVER Meja Makan Multifungsi               3636000    0.48   \n",
       "\n",
       "   Harga Setelah Diskon Jumlah Terjual atau Ulasan   Gratis Ongkir  \n",
       "0                859000               4055 Terjual  se-Jabodetabek  \n",
       "1               1049000               3612 Terjual  se-Jabodetabek  \n",
       "2               1029000               2661 Terjual  se-Jabodetabek  \n",
       "3                869000               3153 Terjual  se-Jabodetabek  \n",
       "4               1859000               3135 Terjual  se-Jabodetabek  "
      ]
     },
     "execution_count": 207,
     "metadata": {},
     "output_type": "execute_result"
    }
   ],
   "source": [
    "df.head()"
   ]
  },
  {
   "cell_type": "code",
   "execution_count": 208,
   "metadata": {},
   "outputs": [
    {
     "name": "stdout",
     "output_type": "stream",
     "text": [
      "<class 'pandas.core.frame.DataFrame'>\n",
      "RangeIndex: 120 entries, 0 to 119\n",
      "Data columns (total 6 columns):\n",
      " #   Column                      Non-Null Count  Dtype  \n",
      "---  ------                      --------------  -----  \n",
      " 0   Nama Produk                 120 non-null    object \n",
      " 1   Harga Sebelum Diskon        120 non-null    Int64  \n",
      " 2   Diskon                      120 non-null    float64\n",
      " 3   Harga Setelah Diskon        120 non-null    Int64  \n",
      " 4   Jumlah Terjual atau Ulasan  120 non-null    object \n",
      " 5   Gratis Ongkir               120 non-null    object \n",
      "dtypes: Int64(2), float64(1), object(3)\n",
      "memory usage: 6.0+ KB\n"
     ]
    }
   ],
   "source": [
    "df.info()"
   ]
  },
  {
   "cell_type": "markdown",
   "metadata": {},
   "source": [
    "Berdasarkan output di atas, terlihat bahwa karakter ( dan ) pada data Jumlah Terjual atau Ulasan sudah berhasil dihilangkan. Data yang berisikan 'None' juga sudah diubah menjadi 'Belum Terjual atau Diulas' sehingga tidak ada lagi missing value. Sehingga, perbaikan untuk data Jumlah Terjual atau Ulasan sudah selesai."
   ]
  },
  {
   "cell_type": "markdown",
   "metadata": {},
   "source": [
    "## 4.3. ## Exploration Data Analysis (After Cleaning Process)"
   ]
  },
  {
   "cell_type": "code",
   "execution_count": 210,
   "metadata": {},
   "outputs": [
    {
     "data": {
      "text/html": [
       "<div>\n",
       "<style scoped>\n",
       "    .dataframe tbody tr th:only-of-type {\n",
       "        vertical-align: middle;\n",
       "    }\n",
       "\n",
       "    .dataframe tbody tr th {\n",
       "        vertical-align: top;\n",
       "    }\n",
       "\n",
       "    .dataframe thead th {\n",
       "        text-align: right;\n",
       "    }\n",
       "</style>\n",
       "<table border=\"1\" class=\"dataframe\">\n",
       "  <thead>\n",
       "    <tr style=\"text-align: right;\">\n",
       "      <th></th>\n",
       "      <th>Nama Produk</th>\n",
       "      <th>Harga Sebelum Diskon</th>\n",
       "      <th>Diskon</th>\n",
       "      <th>Harga Setelah Diskon</th>\n",
       "      <th>Jumlah Terjual atau Ulasan</th>\n",
       "      <th>Gratis Ongkir</th>\n",
       "    </tr>\n",
       "  </thead>\n",
       "  <tbody>\n",
       "    <tr>\n",
       "      <th>0</th>\n",
       "      <td>Heim Studio KOZU Coffee Table 2in1</td>\n",
       "      <td>1485000</td>\n",
       "      <td>0.42</td>\n",
       "      <td>859000</td>\n",
       "      <td>4055 Terjual</td>\n",
       "      <td>se-Jabodetabek</td>\n",
       "    </tr>\n",
       "    <tr>\n",
       "      <th>1</th>\n",
       "      <td>Heim Studio KOZU Meja Kerja</td>\n",
       "      <td>1980000</td>\n",
       "      <td>0.47</td>\n",
       "      <td>1049000</td>\n",
       "      <td>3612 Terjual</td>\n",
       "      <td>se-Jabodetabek</td>\n",
       "    </tr>\n",
       "    <tr>\n",
       "      <th>2</th>\n",
       "      <td>Heim Studio NANA Meja TV 2in1</td>\n",
       "      <td>2178000</td>\n",
       "      <td>0.52</td>\n",
       "      <td>1029000</td>\n",
       "      <td>2661 Terjual</td>\n",
       "      <td>se-Jabodetabek</td>\n",
       "    </tr>\n",
       "    <tr>\n",
       "      <th>3</th>\n",
       "      <td>Heim Studio ISY Meja TV</td>\n",
       "      <td>1434000</td>\n",
       "      <td>0.39</td>\n",
       "      <td>869000</td>\n",
       "      <td>3153 Terjual</td>\n",
       "      <td>se-Jabodetabek</td>\n",
       "    </tr>\n",
       "    <tr>\n",
       "      <th>4</th>\n",
       "      <td>Heim Studio YVER Meja Makan Multifungsi</td>\n",
       "      <td>3636000</td>\n",
       "      <td>0.48</td>\n",
       "      <td>1859000</td>\n",
       "      <td>3135 Terjual</td>\n",
       "      <td>se-Jabodetabek</td>\n",
       "    </tr>\n",
       "  </tbody>\n",
       "</table>\n",
       "</div>"
      ],
      "text/plain": [
       "                               Nama Produk  Harga Sebelum Diskon  Diskon  \\\n",
       "0       Heim Studio KOZU Coffee Table 2in1               1485000    0.42   \n",
       "1              Heim Studio KOZU Meja Kerja               1980000    0.47   \n",
       "2            Heim Studio NANA Meja TV 2in1               2178000    0.52   \n",
       "3                  Heim Studio ISY Meja TV               1434000    0.39   \n",
       "4  Heim Studio YVER Meja Makan Multifungsi               3636000    0.48   \n",
       "\n",
       "   Harga Setelah Diskon Jumlah Terjual atau Ulasan   Gratis Ongkir  \n",
       "0                859000               4055 Terjual  se-Jabodetabek  \n",
       "1               1049000               3612 Terjual  se-Jabodetabek  \n",
       "2               1029000               2661 Terjual  se-Jabodetabek  \n",
       "3                869000               3153 Terjual  se-Jabodetabek  \n",
       "4               1859000               3135 Terjual  se-Jabodetabek  "
      ]
     },
     "execution_count": 210,
     "metadata": {},
     "output_type": "execute_result"
    }
   ],
   "source": [
    "df.head()"
   ]
  },
  {
   "cell_type": "code",
   "execution_count": 211,
   "metadata": {},
   "outputs": [
    {
     "name": "stdout",
     "output_type": "stream",
     "text": [
      "<class 'pandas.core.frame.DataFrame'>\n",
      "RangeIndex: 120 entries, 0 to 119\n",
      "Data columns (total 6 columns):\n",
      " #   Column                      Non-Null Count  Dtype  \n",
      "---  ------                      --------------  -----  \n",
      " 0   Nama Produk                 120 non-null    object \n",
      " 1   Harga Sebelum Diskon        120 non-null    Int64  \n",
      " 2   Diskon                      120 non-null    float64\n",
      " 3   Harga Setelah Diskon        120 non-null    Int64  \n",
      " 4   Jumlah Terjual atau Ulasan  120 non-null    object \n",
      " 5   Gratis Ongkir               120 non-null    object \n",
      "dtypes: Int64(2), float64(1), object(3)\n",
      "memory usage: 6.0+ KB\n"
     ]
    }
   ],
   "source": [
    "df.info()"
   ]
  },
  {
   "cell_type": "markdown",
   "metadata": {},
   "source": [
    "Berdasarkan informasi yang diperoleh dari output di atas, terlihat bahwa terdapat total 120 baris dan 6 kolom. Setelah dilakukan pembersihan dan perbaikan pada data-data tersebut, dari 6 kolom yang ada, semua datanya sudah lengkap (tidak ada lagi missing value). Tipe data pada setiap kolom juga sudah sesuai, yaitu:\n",
    "\n",
    "1. Nama produk bertipe object\n",
    "2. Harga Sebelum Diskon bertipe Int64  \n",
    "3. Diskon bertipe float64\n",
    "4. Harga Setelah Diskon bertipe Int64  \n",
    "5. Jumlah Terjual atau Ulasan bertipe object \n",
    "6. Gratis Ongkir bertipe object \n",
    "\n",
    "Karena seluruh data sudah sesuai, maka data ini dapat digunakan untuk analisis lebih lanjut."
   ]
  },
  {
   "cell_type": "markdown",
   "metadata": {},
   "source": [
    "# 5. Menyimpan Hasil Scraping ke CSV"
   ]
  },
  {
   "cell_type": "code",
   "execution_count": null,
   "metadata": {},
   "outputs": [],
   "source": [
    "df.to_csv('cleaned_retail_data.csv', index=False) # index = false agar indexnya tidak tersimpan"
   ]
  },
  {
   "cell_type": "markdown",
   "metadata": {},
   "source": [
    "# 6. SQL"
   ]
  },
  {
   "cell_type": "markdown",
   "metadata": {},
   "source": [
    "Program (query) ini dibuat untuk pengelolaan dan pengolahan data hasil scraping website dekoruma. Mulai dari pembuatan database, tabel, dan normalisasi apabila diperlukan."
   ]
  },
  {
   "cell_type": "markdown",
   "metadata": {},
   "source": [
    "## 6.1. Membuat Database"
   ]
  },
  {
   "cell_type": "markdown",
   "metadata": {},
   "source": [
    "```sql\n",
    "-- Query ini digunakan untuk membuat database\n",
    "CREATE DATABASE ecommerce; \n",
    "--(Note: Ini seharusnya berada pada halaman query yang berbeda, tetapi saya copy di sini  agar menjadi 1 file sql)\n",
    "```\n"
   ]
  },
  {
   "cell_type": "markdown",
   "metadata": {},
   "source": [
    "## 6.2. Membuat Tabel Staging"
   ]
  },
  {
   "cell_type": "markdown",
   "metadata": {},
   "source": [
    "```sql\n",
    "-- Query ini digunakan untuk membuat table \"staging\"\n",
    "CREATE TABLE staging (\n",
    "\t\tid SERIAL,\n",
    "\t\tnama_produk VARCHAR (250),\n",
    "\t\tharga_sebelum_diskon INT,\n",
    "\t\tdiskon FLOAT,\n",
    "\t\tharga_setelah_diskon INT,\n",
    "\t\tjumlah_terjual_ulasan VARCHAR (250),\n",
    "\t\tgratis_ongkir VARCHAR (250)\n",
    "\t\t);\n",
    "\n",
    "-- Query ini digunakan untuk mengambil semua data dari tabel \"staging\", tetapi dalam hal ini digunakan untuk memastikan apakah kolom pada table \"staging\" sudah sesuai\n",
    "SELECT * FROM staging;\n",
    "```"
   ]
  },
  {
   "cell_type": "markdown",
   "metadata": {},
   "source": [
    "```sql\n",
    "-- Query ini digunakan untuk memasukkan data pada tabel \"staging\", di mana data yang digunakan berasal dari file csv\n",
    "COPY staging (nama_produk, harga_sebelum_diskon, diskon, harga_setelah_diskon, jumlah_terjual_ulasan, gratis_ongkir)\n",
    "FROM 'C:\\Users\\cleaned_retail_data.csv' DELIMITER ',' CSV HEADER; \n",
    "\n",
    "-- Query ini digunakan untuk mengambil semua data dari tabel \"staging\"\n",
    "SELECT * FROM staging;\n",
    "\n",
    "```"
   ]
  },
  {
   "cell_type": "markdown",
   "metadata": {},
   "source": [
    "## 6.3. Normalisasi"
   ]
  },
  {
   "cell_type": "markdown",
   "metadata": {},
   "source": [
    "Pada kasus ini, normalisasi pada data tidak diperlukan karena seluruh kolom sudah bernilai single value (tidak ada data multiple value). \n",
    "Selain itu, data pada tabel staging tidak memiliki data duplikat. \n",
    "Setiap produk memiliki satu harga sebelum diskon, satu diskon, satu harga setelah diskon, dan satu keterangan terkait terjual atau ulasan, serta gratis ongkir yang didapatkan.\n",
    "Oleh karena itu, tidak perlu dilakukan normalisasi pada data ini.\n"
   ]
  },
  {
   "cell_type": "markdown",
   "metadata": {},
   "source": [
    "## 6.4. Menyimpan Tabel Staging"
   ]
  },
  {
   "cell_type": "markdown",
   "metadata": {},
   "source": [
    "```sql\n",
    "COPY staging TO 'C:/Users/staging_retail_data.csv' WITH (FORMAT csv, HEADER); \n",
    "```"
   ]
  }
 ],
 "metadata": {
  "kernelspec": {
   "display_name": "base",
   "language": "python",
   "name": "python3"
  },
  "language_info": {
   "codemirror_mode": {
    "name": "ipython",
    "version": 3
   },
   "file_extension": ".py",
   "mimetype": "text/x-python",
   "name": "python",
   "nbconvert_exporter": "python",
   "pygments_lexer": "ipython3",
   "version": "3.12.7"
  }
 },
 "nbformat": 4,
 "nbformat_minor": 2
}
